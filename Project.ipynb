{
 "cells": [
  {
   "cell_type": "markdown",
   "metadata": {},
   "source": [
    "### Libraries"
   ]
  },
  {
   "cell_type": "code",
   "execution_count": 3,
   "metadata": {},
   "outputs": [],
   "source": [
    "import pandas as pd\n",
    "import numpy as np\n",
    "from sklearn.preprocessing import LabelEncoder\n",
    "from sklearn.model_selection import train_test_split\n",
    "from sklearn.model_selection import GridSearchCV, cross_val_score\n",
    "from sklearn.metrics import accuracy_score\n",
    "from sklearn.svm import SVC"
   ]
  },
  {
   "cell_type": "markdown",
   "metadata": {},
   "source": [
    "### **Characteristics:** The ten features are defined as follows:\n",
    "\n",
    "- **sbp:** systolic blood pressure\n",
    "- **tobacco:** cumulative tobacco (kg)\n",
    "- **ldl:** low density lipoprotein cholesterol\n",
    "- **adiposity**\n",
    "- **famhist:** family history of heart disease (Present=1, Absent=0)\n",
    "- **typea:** type-A behavior\n",
    "- **obesity**\n",
    "- **alcohol:** current alcohol consumption\n",
    "- **age:** age at onset\n",
    "- **chd:** coronary heart disease (yes=1 or no=0)"
   ]
  },
  {
   "cell_type": "code",
   "execution_count": 4,
   "metadata": {},
   "outputs": [
    {
     "name": "stdout",
     "output_type": "stream",
     "text": [
      "   sbp  tobacco   ldl  adipoYesty  famhist  typea  obeYesty  alcohol  age  \\\n",
      "0  160    12.00  5.73       23.11  Present     49     25.30    97.20   52   \n",
      "1  144     0.01  4.41       28.61   Absent     55     28.87     2.06   63   \n",
      "2  118     0.08  3.48       32.28  Present     52     29.14     3.81   46   \n",
      "3  170     7.50  6.41       38.03  Present     51     31.99    24.26   58   \n",
      "4  134    13.60  3.50       27.78  Present     60     25.99    57.34   49   \n",
      "5  132     6.20  6.47       36.21  Present     62     30.77    14.14   45   \n",
      "6  142     4.05  3.38       16.20   Absent     59     20.81     2.62   38   \n",
      "7  114     4.08  4.59       14.60  Present     62     23.11     6.72   58   \n",
      "8  114     0.00  3.83       19.40  Present     49     24.86     2.49   29   \n",
      "9  132     0.00  5.80       30.96  Present     69     30.11     0.00   53   \n",
      "\n",
      "  class  \n",
      "0   Yes  \n",
      "1   Yes  \n",
      "2    No  \n",
      "3   Yes  \n",
      "4   Yes  \n",
      "5    No  \n",
      "6    No  \n",
      "7   Yes  \n",
      "8    No  \n",
      "9   Yes  \n"
     ]
    }
   ],
   "source": [
    "df = pd.DataFrame(pd.read_csv('database.csv'))\n",
    "# Change the name of the class column\n",
    "df = df.rename(columns={'chd': 'class'})\n",
    "print(df.head(10))"
   ]
  },
  {
   "cell_type": "markdown",
   "metadata": {},
   "source": [
    "#### Support Vector Machine"
   ]
  },
  {
   "cell_type": "code",
   "execution_count": 9,
   "metadata": {},
   "outputs": [
    {
     "name": "stdout",
     "output_type": "stream",
     "text": [
      "Best hyperparameters found:\n",
      "C: 100 kernel: linear\n",
      "Accuracy on the test set: 0.7204\n"
     ]
    }
   ],
   "source": [
    "# Categorical features to numerical with LaberEncoder\n",
    "df['famhist'] = LabelEncoder().fit_transform(df['famhist'])\n",
    "df['class'] = LabelEncoder().fit_transform(df['class'])\n",
    "\n",
    "# Separation of features from the class\n",
    "X = df.iloc[:, :-1]\n",
    "y = df.iloc[:, -1]\n",
    "\n",
    "# Train/test split\n",
    "X_train, X_test, y_train, y_test = train_test_split(X, y, test_size=0.2, random_state=42)\n",
    "\n",
    "# Define the hyperparameters\n",
    "hyperparameters = {'C': [1, 10, 50, 100], 'kernel': [\"linear\", \"poly\", \"rbf\"]}\n",
    "clf = SVC()\n",
    "\n",
    "# Define the grid search with cross-validation\n",
    "GS = GridSearchCV(clf, hyperparameters, cv = 10) # Number of folds: 10\n",
    "GS.fit(X_train, y_train.ravel())  # Run the grid search\n",
    "\n",
    "# Get the best hyperparameters\n",
    "best_C = GS.best_params_['C']\n",
    "best_kernel = GS.best_params_['kernel']\n",
    "print(\"Best hyperparameters found:\")\n",
    "print(\"C:\", best_C, \"kernel:\", best_kernel)\n",
    "\n",
    "# SVM model with the best hyperparameters\n",
    "SVM = SVC(C=best_C, kernel=best_kernel)\n",
    "SVM.fit(X_train, y_train.ravel())\n",
    "\n",
    "# Classifier accuracy on test set\n",
    "y_pred = SVM.predict(X_test)\n",
    "accuracy = accuracy_score(y_test.ravel(), y_pred)\n",
    "\n",
    "print(\"Accuracy on the test set: {:.4f}\".format(accuracy))\n"
   ]
  }
 ],
 "metadata": {
  "kernelspec": {
   "display_name": "Python 3",
   "language": "python",
   "name": "python3"
  },
  "language_info": {
   "codemirror_mode": {
    "name": "ipython",
    "version": 3
   },
   "file_extension": ".py",
   "mimetype": "text/x-python",
   "name": "python",
   "nbconvert_exporter": "python",
   "pygments_lexer": "ipython3",
   "version": "3.10.5"
  }
 },
 "nbformat": 4,
 "nbformat_minor": 2
}
